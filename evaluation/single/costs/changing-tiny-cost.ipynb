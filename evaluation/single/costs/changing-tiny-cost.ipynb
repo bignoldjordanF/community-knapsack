{
 "cells": [
  {
   "cell_type": "code",
   "execution_count": 1,
   "metadata": {
    "collapsed": true
   },
   "outputs": [],
   "source": [
    "from community_knapsack import *\n",
    "from evaluation import evaluation"
   ]
  },
  {
   "cell_type": "code",
   "execution_count": 2,
   "outputs": [],
   "source": [
    "# The algorithms to use for this evaluation:\n",
    "exact_algorithms = [\n",
    "    PBSingleAlgorithm.MEMOIZATION,\n",
    "    PBSingleAlgorithm.DYNAMIC_PROGRAMMING,\n",
    "    PBSingleAlgorithm.BRANCH_AND_BOUND,\n",
    "    PBSingleAlgorithm.ILP_SOLVER\n",
    "]\n",
    "\n",
    "approximation_algorithms = [\n",
    "    PBSingleAlgorithm.GREEDY,\n",
    "    PBSingleAlgorithm.RATIO_GREEDY,\n",
    "    PBSingleAlgorithm.FPTAS,\n",
    "    PBSingleAlgorithm.SIMULATED_ANNEALING,\n",
    "    PBSingleAlgorithm.GENETIC_ALGORITHM\n",
    "]"
   ],
   "metadata": {
    "collapsed": false
   }
  },
  {
   "cell_type": "code",
   "execution_count": 3,
   "outputs": [],
   "source": [
    "# The boundaries of this evaluation:\n",
    "num_projects = 50\n",
    "num_voters = 3000\n",
    "budget = 500_000\n",
    "\n",
    "start_cost = 1_000\n",
    "end_cost = 20_000\n",
    "step_cost = 1_000\n",
    "\n",
    "max_cost = 20_000"
   ],
   "metadata": {
    "collapsed": false
   }
  },
  {
   "cell_type": "code",
   "execution_count": 4,
   "outputs": [],
   "source": [
    "# Set the global x-axis for this evaluation:\n",
    "x_axis = list(range(start_cost, end_cost + 1, step_cost))"
   ],
   "metadata": {
    "collapsed": false
   }
  },
  {
   "cell_type": "code",
   "execution_count": 5,
   "outputs": [],
   "source": [
    "# Generate the problems using the evaluation tools:\n",
    "problems = evaluation.generate_single_problems(\n",
    "    num_project_bounds=[(num_projects, num_projects)],\n",
    "    num_voters_bounds=[(num_voters, num_voters)],\n",
    "    budget_bounds=[(budget, budget)],\n",
    "    cost_bounds=[(cost, max_cost) for cost in x_axis]\n",
    ")"
   ],
   "metadata": {
    "collapsed": false
   }
  },
  {
   "cell_type": "code",
   "execution_count": 6,
   "outputs": [],
   "source": [
    "# Obtain the exact results for this evaluation:\n",
    "exact_results = evaluation.solve_problems(\n",
    "    problem_list=problems,\n",
    "    algorithms=exact_algorithms,\n",
    "    timeout=2,\n",
    "    max_fail=1,\n",
    "    file_name='ext-changing-tiny-cost.json',\n",
    "    output=True\n",
    ")"
   ],
   "metadata": {
    "collapsed": false
   }
  },
  {
   "cell_type": "code",
   "execution_count": null,
   "outputs": [],
   "source": [
    "# Obtain the exact results for this evaluation:\n",
    "approximation_results = evaluation.solve_problems(\n",
    "    problem_list=problems,\n",
    "    algorithms=approximation_algorithms,\n",
    "    timeout=125,\n",
    "    max_fail=5,\n",
    "    file_name='apx-changing-tiny-cost.json',\n",
    "    output=True\n",
    ")"
   ],
   "metadata": {
    "collapsed": false
   }
  }
 ],
 "metadata": {
  "kernelspec": {
   "display_name": "Python 3",
   "language": "python",
   "name": "python3"
  },
  "language_info": {
   "codemirror_mode": {
    "name": "ipython",
    "version": 2
   },
   "file_extension": ".py",
   "mimetype": "text/x-python",
   "name": "python",
   "nbconvert_exporter": "python",
   "pygments_lexer": "ipython2",
   "version": "2.7.6"
  }
 },
 "nbformat": 4,
 "nbformat_minor": 0
}
