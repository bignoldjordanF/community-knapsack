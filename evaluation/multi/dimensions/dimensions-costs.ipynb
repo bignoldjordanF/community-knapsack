{
 "cells": [
  {
   "cell_type": "code",
   "execution_count": 1,
   "metadata": {
    "collapsed": true,
    "ExecuteTime": {
     "start_time": "2023-05-02T17:27:43.905714Z",
     "end_time": "2023-05-02T17:27:44.189654Z"
    }
   },
   "outputs": [],
   "source": [
    "from community_knapsack import *\n",
    "from evaluation import evaluation\n",
    "import random"
   ]
  },
  {
   "cell_type": "code",
   "execution_count": 17,
   "outputs": [],
   "source": [
    "# The algorithms to use for this evaluation:\n",
    "exact_algorithms = [\n",
    "    PBMultiAlgorithm.MEMOIZATION,\n",
    "    PBMultiAlgorithm.ILP_SOLVER\n",
    "]\n",
    "\n",
    "approximation_algorithms = [\n",
    "    PBMultiAlgorithm.GREEDY,\n",
    "    PBMultiAlgorithm.RATIO_GREEDY,\n",
    "    PBMultiAlgorithm.BRANCH_AND_BOUND,\n",
    "    PBMultiAlgorithm.SIMULATED_ANNEALING,\n",
    "    PBMultiAlgorithm.GENETIC_ALGORITHM\n",
    "]"
   ],
   "metadata": {
    "collapsed": false
   }
  },
  {
   "cell_type": "markdown",
   "source": [
    "#### This notebook tests the scalability of the algorithms with an increasing number of dimensions and increasing project costs.\n",
    "---"
   ],
   "metadata": {
    "collapsed": false
   }
  },
  {
   "cell_type": "code",
   "execution_count": 18,
   "outputs": [],
   "source": [
    "# The boundaries of this evaluation:\n",
    "\n",
    "# We test between one and ten dimensions where each budget is randomly generated\n",
    "# between 10000 and 100000 and the costs of each project are randomly generated\n",
    "# from 10-20%, 10-30%, ..., 10-100%.\n",
    "\n",
    "random.seed(181)\n",
    "\n",
    "num_projects = 50\n",
    "num_voters = 3000\n",
    "\n",
    "start_dimensions = 1\n",
    "end_dimensions = 5\n",
    "step_dimensions = 1\n",
    "\n",
    "min_cost = 0.1\n",
    "\n",
    "start_max_cost = 20\n",
    "end_max_cost = 100\n",
    "step_max_cost = 20\n",
    "\n",
    "budget = [random.randint(10_000, 100_000) for _ in range(end_dimensions//step_dimensions)]"
   ],
   "metadata": {
    "collapsed": false
   }
  },
  {
   "cell_type": "code",
   "execution_count": 19,
   "outputs": [],
   "source": [
    "x_axis = list(range(start_dimensions, end_dimensions + 1, step_dimensions))"
   ],
   "metadata": {
    "collapsed": false
   }
  },
  {
   "cell_type": "code",
   "execution_count": 20,
   "outputs": [],
   "source": [
    "y_axis = list(cost/100 for cost in range(start_max_cost, end_max_cost + 1, step_max_cost))"
   ],
   "metadata": {
    "collapsed": false
   }
  },
  {
   "cell_type": "code",
   "execution_count": 21,
   "outputs": [],
   "source": [
    "problems = evaluation.generate_multi_problems(\n",
    "    num_project_bounds=[(num_projects, num_projects)],\n",
    "    num_voters_bounds=[(num_voters, num_voters)],\n",
    "    dimension_bounds=x_axis,\n",
    "    budget_bounds=[[[(b, b) for b in budget[:d]]] for d in x_axis],\n",
    "    cost_bounds=[[[(int(b * min_cost), int(b * curr_cost)) for bid, b in enumerate(budget[:d])] for curr_cost in y_axis] for d in x_axis]\n",
    ")"
   ],
   "metadata": {
    "collapsed": false
   }
  },
  {
   "cell_type": "code",
   "execution_count": 24,
   "outputs": [],
   "source": [
    "# Obtain the exact results for this evaluation:\n",
    "exact_results = evaluation.solve_problems(\n",
    "    problem_list=problems,\n",
    "    algorithms=exact_algorithms,\n",
    "    timeout=60,\n",
    "    max_fail=-1,\n",
    "    file_name='ext-dimensions-costs.json',\n",
    "    output=True\n",
    ")\n",
    "exact_results = evaluation.format_3d(exact_results, x_axis, y_axis)"
   ],
   "metadata": {
    "collapsed": false
   }
  },
  {
   "cell_type": "code",
   "execution_count": 27,
   "outputs": [],
   "source": [
    "# Obtain the exact results for this evaluation:\n",
    "approximation_results = evaluation.solve_problems(\n",
    "    problem_list=problems,\n",
    "    algorithms=approximation_algorithms,\n",
    "    timeout=60,\n",
    "    max_fail=-1,\n",
    "    file_name='apx-dimensions-costs.json',\n",
    "    output=True\n",
    ")\n",
    "approximation_results = evaluation.format_3d(approximation_results, x_axis, y_axis)"
   ],
   "metadata": {
    "collapsed": false
   }
  },
  {
   "cell_type": "code",
   "execution_count": null,
   "outputs": [],
   "source": [
    "evaluation.plot_3d(\n",
    "    x_axis=x_axis,\n",
    "    y_axis=[y*100 for y in y_axis],\n",
    "    z_axes=evaluation.get_z_axes(exact_results, exact_algorithms, 2),\n",
    "    x_label='# of Dimensions',\n",
    "    y_label='Maximum Cost Generated\\n(% of Budget)',\n",
    "    z_label='Overall Runtime (ms)',\n",
    "    labels=evaluation.get_labels(exact_algorithms),\n",
    "    colors=evaluation.get_colors(exact_algorithms),\n",
    "    sizes=evaluation.get_3d_sizes(exact_algorithms),\n",
    ")"
   ],
   "metadata": {
    "collapsed": false,
    "pycharm": {
     "is_executing": true
    }
   }
  },
  {
   "cell_type": "code",
   "execution_count": 36,
   "outputs": [],
   "source": [
    "evaluation.plot_3d(\n",
    "    x_axis=x_axis,\n",
    "    y_axis=[y*100 for y in y_axis],\n",
    "    z_axes=evaluation.get_z_axes(approximation_results, approximation_algorithms, 2),\n",
    "    x_label='# of Dimensions',\n",
    "    y_label='Maximum Cost Generated\\n(% of Budget)',\n",
    "    z_label='Overall Runtime (ms)',\n",
    "    labels=evaluation.get_labels(approximation_algorithms),\n",
    "    colors=evaluation.get_colors(approximation_algorithms),\n",
    "    sizes=evaluation.get_3d_sizes(approximation_algorithms),\n",
    ")"
   ],
   "metadata": {
    "collapsed": false
   }
  },
  {
   "cell_type": "code",
   "execution_count": 38,
   "outputs": [],
   "source": [
    "evaluation.plot_3d(\n",
    "    x_axis=x_axis,\n",
    "    y_axis=y_axis,\n",
    "    z_axes=evaluation.get_z_axes(exact_results, [PBSingleAlgorithm.ILP_SOLVER], 0) + evaluation.get_z_axes(approximation_results, approximation_algorithms, 0),\n",
    "    x_label='# of Dimensions',\n",
    "    y_label='Maximum Cost Generated\\n(% of Budget)',\n",
    "    z_label='Overall Value (Votes)',\n",
    "    labels=['IPS'] + evaluation.get_labels(approximation_algorithms),\n",
    "    colors=['black'] + evaluation.get_colors(approximation_algorithms),\n",
    "    alphas=[0.05],\n",
    "    sizes=[100] + evaluation.get_3d_sizes(approximation_algorithms),\n",
    "    y_tick_limits=(3, 3),\n",
    ")"
   ],
   "metadata": {
    "collapsed": false
   }
  },
  {
   "cell_type": "code",
   "execution_count": null,
   "outputs": [],
   "source": [],
   "metadata": {
    "collapsed": false
   }
  }
 ],
 "metadata": {
  "kernelspec": {
   "display_name": "Python 3",
   "language": "python",
   "name": "python3"
  },
  "language_info": {
   "codemirror_mode": {
    "name": "ipython",
    "version": 2
   },
   "file_extension": ".py",
   "mimetype": "text/x-python",
   "name": "python",
   "nbconvert_exporter": "python",
   "pygments_lexer": "ipython2",
   "version": "2.7.6"
  }
 },
 "nbformat": 4,
 "nbformat_minor": 0
}
