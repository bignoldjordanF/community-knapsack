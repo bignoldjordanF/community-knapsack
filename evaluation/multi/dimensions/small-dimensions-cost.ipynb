{
 "cells": [
  {
   "cell_type": "code",
   "execution_count": 1,
   "outputs": [],
   "source": [
    "from community_knapsack import *\n",
    "from evaluation import evaluation\n",
    "import random"
   ],
   "metadata": {
    "collapsed": false
   }
  },
  {
   "cell_type": "code",
   "execution_count": 2,
   "outputs": [],
   "source": [
    "# The algorithms to use for this evaluation:\n",
    "exact_algorithms = [\n",
    "    PBMultiAlgorithm.MEMOIZATION,\n",
    "    PBMultiAlgorithm.DYNAMIC_PROGRAMMING,\n",
    "    PBMultiAlgorithm.ILP_SOLVER\n",
    "]\n",
    "\n",
    "approximation_algorithms = [\n",
    "    PBMultiAlgorithm.GREEDY,\n",
    "    PBMultiAlgorithm.RATIO_GREEDY,\n",
    "    PBMultiAlgorithm.BRANCH_AND_BOUND,\n",
    "    PBMultiAlgorithm.SIMULATED_ANNEALING,\n",
    "    PBMultiAlgorithm.GENETIC_ALGORITHM\n",
    "]"
   ],
   "metadata": {
    "collapsed": false
   }
  },
  {
   "cell_type": "markdown",
   "source": [
    "#### This notebook tests the scalability of the algorithms with an increasing number of dimensions with small budgets and small costs.\n",
    "---"
   ],
   "metadata": {
    "collapsed": false
   }
  },
  {
   "cell_type": "code",
   "execution_count": 3,
   "outputs": [],
   "source": [
    "# The boundaries of this evaluation:\n",
    "\n",
    "# We test between one and ten dimensions where each budget is randomly generated\n",
    "# between 10 and 1000 and the cost of each project in a dimension must be within\n",
    "# 5-50% of the budget in that dimension.\n",
    "\n",
    "random.seed(181)\n",
    "\n",
    "num_projects = 50\n",
    "num_voters = 3000\n",
    "\n",
    "start_dimensions = 1\n",
    "end_dimensions = 10\n",
    "step_dimensions = 1\n",
    "\n",
    "budget = [random.randint(10, 1000) for _ in range(end_dimensions//step_dimensions)]\n",
    "cost_bounds = [\n",
    "    (int(b * 0.05), int(b * 0.1))\n",
    "    for bid, b in enumerate(budget)\n",
    "]"
   ],
   "metadata": {
    "collapsed": false
   }
  },
  {
   "cell_type": "code",
   "execution_count": 4,
   "outputs": [],
   "source": [
    "x_axis = list(range(start_dimensions, end_dimensions + 1, step_dimensions))"
   ],
   "metadata": {
    "collapsed": false
   }
  },
  {
   "cell_type": "code",
   "execution_count": 5,
   "outputs": [],
   "source": [
    "problems = evaluation.generate_multi_problems(\n",
    "    num_project_bounds=[(num_projects, num_projects)],\n",
    "    num_voters_bounds=[(num_voters, num_voters)],\n",
    "    dimension_bounds=x_axis,\n",
    "    budget_bounds=[[[(b, b) for b in budget[:d]]] for d in x_axis],\n",
    "    cost_bounds=[[[cost_bound for cost_bound in cost_bounds[:d]]] for d in x_axis]\n",
    ")"
   ],
   "metadata": {
    "collapsed": false
   }
  },
  {
   "cell_type": "code",
   "execution_count": 6,
   "outputs": [
    {
     "name": "stdout",
     "output_type": "stream",
     "text": [
      "Processing MEMOIZATION:\n",
      "0\n",
      "1\n",
      "2\n",
      "Processing DYNAMIC_PROGRAMMING:\n",
      "0\n"
     ]
    },
    {
     "name": "stderr",
     "output_type": "stream",
     "text": [
      "/Users/finjordan/Desktop/Final Year Project/community-knapsack/community_knapsack/pbproblem.py:114: UserWarning: The MEMOIZATION algorithm did not finish within the 120 second timeout limit. Try increasing the timeout or using a different algorithm (such as an approximation scheme).\n",
      "  warnings.warn(f'The {algorithm.name} algorithm did not finish within the {timeout} second timeout limit. '\n"
     ]
    },
    {
     "name": "stdout",
     "output_type": "stream",
     "text": [
      "1\n",
      "Processing ILP_SOLVER:\n",
      "0\n"
     ]
    },
    {
     "name": "stderr",
     "output_type": "stream",
     "text": [
      "/Users/finjordan/Desktop/Final Year Project/community-knapsack/community_knapsack/pbproblem.py:114: UserWarning: The DYNAMIC_PROGRAMMING algorithm did not finish within the 120 second timeout limit. Try increasing the timeout or using a different algorithm (such as an approximation scheme).\n",
      "  warnings.warn(f'The {algorithm.name} algorithm did not finish within the {timeout} second timeout limit. '\n"
     ]
    },
    {
     "name": "stdout",
     "output_type": "stream",
     "text": [
      "1\n",
      "2\n",
      "3\n",
      "4\n",
      "5\n",
      "6\n",
      "7\n",
      "8\n",
      "9\n"
     ]
    },
    {
     "name": "stderr",
     "output_type": "stream",
     "text": [
      "Process Process-15:\n",
      "Traceback (most recent call last):\n",
      "  File \"/usr/local/Cellar/python@3.11/3.11.2_1/Frameworks/Python.framework/Versions/3.11/lib/python3.11/multiprocessing/process.py\", line 314, in _bootstrap\n",
      "    self.run()\n",
      "  File \"/usr/local/Cellar/python@3.11/3.11.2_1/Frameworks/Python.framework/Versions/3.11/lib/python3.11/multiprocessing/process.py\", line 108, in run\n",
      "    self._target(*self._args, **self._kwargs)\n",
      "  File \"/Users/finjordan/Desktop/Final Year Project/community-knapsack/community_knapsack/pbproblem.py\", line 255, in _worker\n",
      "    allocation, value = algorithm(self.budget, self.costs, values)\n",
      "                        ^^^^^^^^^^^^^^^^^^^^^^^^^^^^^^^^^^^^^^^^^^\n",
      "  File \"/Users/finjordan/Desktop/Final Year Project/community-knapsack/community_knapsack/pbalgorithm.py\", line 107, in __call__\n",
      "    return self.value[0](*args, **kwargs)\n",
      "           ^^^^^^^^^^^^^^^^^^^^^^^^^^^^^^\n",
      "  File \"/Users/finjordan/Desktop/Final Year Project/community-knapsack/community_knapsack/solvers/exact/ilp.py\", line 70, in multi_integer_programming\n",
      "    model.solve(pulp.PULP_CBC_CMD(msg=False))\n",
      "  File \"/Users/finjordan/Desktop/Final Year Project/community-knapsack/venv/lib/python3.11/site-packages/pulp/pulp.py\", line 1913, in solve\n",
      "    status = solver.actualSolve(self, **kwargs)\n",
      "             ^^^^^^^^^^^^^^^^^^^^^^^^^^^^^^^^^^\n",
      "  File \"/Users/finjordan/Desktop/Final Year Project/community-knapsack/venv/lib/python3.11/site-packages/pulp/apis/coin_api.py\", line 137, in actualSolve\n",
      "    return self.solve_CBC(lp, **kwargs)\n",
      "           ^^^^^^^^^^^^^^^^^^^^^^^^^^^^\n",
      "  File \"/Users/finjordan/Desktop/Final Year Project/community-knapsack/venv/lib/python3.11/site-packages/pulp/apis/coin_api.py\", line 203, in solve_CBC\n",
      "    if cbc.wait() != 0:\n",
      "       ^^^^^^^^^^\n",
      "  File \"/usr/local/Cellar/python@3.11/3.11.2_1/Frameworks/Python.framework/Versions/3.11/lib/python3.11/subprocess.py\", line 1262, in wait\n",
      "    return self._wait(timeout=timeout)\n",
      "           ^^^^^^^^^^^^^^^^^^^^^^^^^^^\n",
      "  File \"/usr/local/Cellar/python@3.11/3.11.2_1/Frameworks/Python.framework/Versions/3.11/lib/python3.11/subprocess.py\", line 1997, in _wait\n",
      "    (pid, sts) = self._try_wait(0)\n",
      "                 ^^^^^^^^^^^^^^^^^\n",
      "  File \"/usr/local/Cellar/python@3.11/3.11.2_1/Frameworks/Python.framework/Versions/3.11/lib/python3.11/subprocess.py\", line 1955, in _try_wait\n",
      "    (pid, sts) = os.waitpid(self.pid, wait_flags)\n",
      "                 ^^^^^^^^^^^^^^^^^^^^^^^^^^^^^^^^\n",
      "KeyboardInterrupt\n",
      "\n",
      "KeyboardInterrupt\n",
      "\n"
     ]
    }
   ],
   "source": [
    "# Obtain the exact results for this evaluation:\n",
    "exact_results = evaluation.solve_problems(\n",
    "    problem_list=problems,\n",
    "    algorithms=exact_algorithms,\n",
    "    timeout=120,\n",
    "    max_fail=1,\n",
    "    file_name='ext-small-dimensions-costs.json',\n",
    "    output=True\n",
    ")"
   ],
   "metadata": {
    "collapsed": false
   }
  },
  {
   "cell_type": "code",
   "execution_count": null,
   "outputs": [],
   "source": [
    "# Obtain the exact results for this evaluation:\n",
    "approximation_results = evaluation.solve_problems(\n",
    "    problem_list=problems,\n",
    "    algorithms=exact_algorithms,\n",
    "    timeout=120,\n",
    "    max_fail=1,\n",
    "    file_name='apx-small-dimensions-costs.json',\n",
    "    output=True\n",
    ")"
   ],
   "metadata": {
    "collapsed": false
   }
  },
  {
   "cell_type": "code",
   "execution_count": null,
   "outputs": [],
   "source": [],
   "metadata": {
    "collapsed": false
   }
  }
 ],
 "metadata": {
  "kernelspec": {
   "display_name": "Python 3",
   "language": "python",
   "name": "python3"
  },
  "language_info": {
   "codemirror_mode": {
    "name": "ipython",
    "version": 2
   },
   "file_extension": ".py",
   "mimetype": "text/x-python",
   "name": "python",
   "nbconvert_exporter": "python",
   "pygments_lexer": "ipython2",
   "version": "2.7.6"
  }
 },
 "nbformat": 4,
 "nbformat_minor": 0
}
