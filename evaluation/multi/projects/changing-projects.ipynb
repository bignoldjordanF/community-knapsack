{
 "cells": [
  {
   "cell_type": "code",
   "execution_count": 1,
   "metadata": {
    "collapsed": true
   },
   "outputs": [],
   "source": [
    "from community_knapsack import *\n",
    "from evaluation import evaluation\n",
    "import random"
   ]
  },
  {
   "cell_type": "code",
   "execution_count": 11,
   "outputs": [],
   "source": [
    "# The algorithms to use for this evaluation:\n",
    "exact_algorithms = [\n",
    "    PBMultiAlgorithm.MEMOIZATION,\n",
    "    PBMultiAlgorithm.DYNAMIC_PROGRAMMING,\n",
    "    PBMultiAlgorithm.ILP_SOLVER\n",
    "]\n",
    "\n",
    "approximation_algorithms = [\n",
    "    PBMultiAlgorithm.GREEDY,\n",
    "    PBMultiAlgorithm.RATIO_GREEDY,\n",
    "    PBMultiAlgorithm.BRANCH_AND_BOUND,\n",
    "    PBMultiAlgorithm.SIMULATED_ANNEALING,\n",
    "    PBMultiAlgorithm.GENETIC_ALGORITHM\n",
    "]"
   ],
   "metadata": {
    "collapsed": false
   }
  },
  {
   "cell_type": "code",
   "execution_count": 12,
   "outputs": [],
   "source": [
    "# The boundaries of this evaluation:\n",
    "\n",
    "# We test an instance with three dimensions where each budget is randomly generated\n",
    "# between 10000 and 100000 and the costs of each project are randomly generated\n",
    "# from 5-10%, 5-20%, 5-30%, 5-40%, 5-50%.\n",
    "\n",
    "random.seed(181)\n",
    "\n",
    "start_num_projects = 5\n",
    "end_num_projects = 250\n",
    "step_num_projects = 5\n",
    "\n",
    "num_voters = 3000\n",
    "dimensions = 3\n",
    "\n",
    "budget = [random.randint(10_000, 100_000) for _ in range(dimensions)]\n",
    "cost_bounds = [\n",
    "    (int(b * 0.05), int(b * 0.5))\n",
    "    for bid, b in enumerate(budget)\n",
    "]"
   ],
   "metadata": {
    "collapsed": false
   }
  },
  {
   "cell_type": "code",
   "execution_count": 13,
   "outputs": [],
   "source": [
    "x_axis = list(range(start_num_projects, end_num_projects + 1, step_num_projects))"
   ],
   "metadata": {
    "collapsed": false
   }
  },
  {
   "cell_type": "code",
   "execution_count": 14,
   "outputs": [
    {
     "data": {
      "text/plain": "[[[(4307, 43072), (1190, 11901), (877, 8775)]]]"
     },
     "execution_count": 14,
     "metadata": {},
     "output_type": "execute_result"
    }
   ],
   "source": [
    "[[[cost_bound for cost_bound in cost_bounds]]]"
   ],
   "metadata": {
    "collapsed": false
   }
  },
  {
   "cell_type": "code",
   "execution_count": 15,
   "outputs": [],
   "source": [
    "problems = evaluation.generate_multi_problems(\n",
    "    num_project_bounds=[(p, p) for p in x_axis],\n",
    "    num_voters_bounds=[(num_voters, num_voters)],\n",
    "    dimension_bounds=[1],\n",
    "    budget_bounds=[[[(b, b) for b in budget]]],\n",
    "    cost_bounds=[[[cost_bound for cost_bound in cost_bounds]]]\n",
    ")"
   ],
   "metadata": {
    "collapsed": false
   }
  },
  {
   "cell_type": "code",
   "execution_count": 16,
   "outputs": [
    {
     "name": "stdout",
     "output_type": "stream",
     "text": [
      "Processing MEMOIZATION:\n",
      "0\n",
      "1\n",
      "2\n",
      "3\n",
      "4\n",
      "5\n",
      "6\n",
      "7\n",
      "8\n",
      "9\n",
      "10\n",
      "11\n",
      "12\n",
      "13\n",
      "14\n",
      "15\n",
      "16\n",
      "17\n",
      "18\n",
      "19\n",
      "20\n",
      "21\n",
      "22\n",
      "23\n",
      "24\n",
      "25\n",
      "26\n"
     ]
    },
    {
     "name": "stderr",
     "output_type": "stream",
     "text": [
      "Process Process-40:\n",
      "Traceback (most recent call last):\n",
      "  File \"/usr/local/Cellar/python@3.11/3.11.2_1/Frameworks/Python.framework/Versions/3.11/lib/python3.11/multiprocessing/process.py\", line 314, in _bootstrap\n",
      "    self.run()\n",
      "  File \"/usr/local/Cellar/python@3.11/3.11.2_1/Frameworks/Python.framework/Versions/3.11/lib/python3.11/multiprocessing/process.py\", line 108, in run\n",
      "    self._target(*self._args, **self._kwargs)\n",
      "  File \"/Users/finjordan/Desktop/Final Year Project/community-knapsack/community_knapsack/pbproblem.py\", line 255, in _worker\n",
      "    allocation, value = algorithm(self.budget, self.costs, values)\n",
      "                        ^^^^^^^^^^^^^^^^^^^^^^^^^^^^^^^^^^^^^^^^^^\n",
      "  File \"/Users/finjordan/Desktop/Final Year Project/community-knapsack/community_knapsack/pbalgorithm.py\", line 107, in __call__\n",
      "    return self.value[0](*args, **kwargs)\n",
      "           ^^^^^^^^^^^^^^^^^^^^^^^^^^^^^^\n",
      "  File \"/Users/finjordan/Desktop/Final Year Project/community-knapsack/community_knapsack/solvers/exact/memoize.py\", line 143, in multi_memoization\n",
      "    return explore(num_items, capacities)\n",
      "           ^^^^^^^^^^^^^^^^^^^^^^^^^^^^^^\n",
      "  File \"/Users/finjordan/Desktop/Final Year Project/community-knapsack/community_knapsack/solvers/exact/memoize.py\", line 130, in explore\n",
      "    exclude: Tuple[List[int], int] = explore(i - 1, j)\n",
      "                                     ^^^^^^^^^^^^^^^^^\n",
      "  File \"/Users/finjordan/Desktop/Final Year Project/community-knapsack/community_knapsack/solvers/exact/memoize.py\", line 130, in explore\n",
      "    exclude: Tuple[List[int], int] = explore(i - 1, j)\n",
      "                                     ^^^^^^^^^^^^^^^^^\n",
      "  File \"/Users/finjordan/Desktop/Final Year Project/community-knapsack/community_knapsack/solvers/exact/memoize.py\", line 130, in explore\n",
      "    exclude: Tuple[List[int], int] = explore(i - 1, j)\n",
      "                                     ^^^^^^^^^^^^^^^^^\n",
      "  [Previous line repeated 48 more times]\n",
      "  File \"/Users/finjordan/Desktop/Final Year Project/community-knapsack/community_knapsack/solvers/exact/memoize.py\", line 129, in explore\n",
      "    include: Tuple[List[int], int] = explore(i - 1, j_updated)\n",
      "                                     ^^^^^^^^^^^^^^^^^^^^^^^^^\n",
      "  File \"/Users/finjordan/Desktop/Final Year Project/community-knapsack/community_knapsack/solvers/exact/memoize.py\", line 130, in explore\n",
      "    exclude: Tuple[List[int], int] = explore(i - 1, j)\n",
      "                                     ^^^^^^^^^^^^^^^^^\n",
      "  File \"/Users/finjordan/Desktop/Final Year Project/community-knapsack/community_knapsack/solvers/exact/memoize.py\", line 130, in explore\n",
      "    exclude: Tuple[List[int], int] = explore(i - 1, j)\n",
      "                                     ^^^^^^^^^^^^^^^^^\n",
      "  File \"/Users/finjordan/Desktop/Final Year Project/community-knapsack/community_knapsack/solvers/exact/memoize.py\", line 130, in explore\n",
      "    exclude: Tuple[List[int], int] = explore(i - 1, j)\n",
      "                                     ^^^^^^^^^^^^^^^^^\n",
      "  [Previous line repeated 32 more times]\n",
      "  File \"/Users/finjordan/Desktop/Final Year Project/community-knapsack/community_knapsack/solvers/exact/memoize.py\", line 129, in explore\n",
      "    include: Tuple[List[int], int] = explore(i - 1, j_updated)\n",
      "                                     ^^^^^^^^^^^^^^^^^^^^^^^^^\n",
      "  File \"/Users/finjordan/Desktop/Final Year Project/community-knapsack/community_knapsack/solvers/exact/memoize.py\", line 122, in explore\n",
      "    memo[sub_problem] = explore(i - 1, j)\n",
      "                        ^^^^^^^^^^^^^^^^^\n",
      "  File \"/Users/finjordan/Desktop/Final Year Project/community-knapsack/community_knapsack/solvers/exact/memoize.py\", line 130, in explore\n",
      "    exclude: Tuple[List[int], int] = explore(i - 1, j)\n",
      "                                     ^^^^^^^^^^^^^^^^^\n",
      "  File \"/Users/finjordan/Desktop/Final Year Project/community-knapsack/community_knapsack/solvers/exact/memoize.py\", line 130, in explore\n",
      "    exclude: Tuple[List[int], int] = explore(i - 1, j)\n",
      "                                     ^^^^^^^^^^^^^^^^^\n",
      "  File \"/Users/finjordan/Desktop/Final Year Project/community-knapsack/community_knapsack/solvers/exact/memoize.py\", line 130, in explore\n",
      "    exclude: Tuple[List[int], int] = explore(i - 1, j)\n",
      "                                     ^^^^^^^^^^^^^^^^^\n",
      "  [Previous line repeated 3 more times]\n",
      "  File \"/Users/finjordan/Desktop/Final Year Project/community-knapsack/community_knapsack/solvers/exact/memoize.py\", line 122, in explore\n",
      "    memo[sub_problem] = explore(i - 1, j)\n",
      "                        ^^^^^^^^^^^^^^^^^\n",
      "  File \"/Users/finjordan/Desktop/Final Year Project/community-knapsack/community_knapsack/solvers/exact/memoize.py\", line 130, in explore\n",
      "    exclude: Tuple[List[int], int] = explore(i - 1, j)\n",
      "                                     ^^^^^^^^^^^^^^^^^\n",
      "  File \"/Users/finjordan/Desktop/Final Year Project/community-knapsack/community_knapsack/solvers/exact/memoize.py\", line 122, in explore\n",
      "    memo[sub_problem] = explore(i - 1, j)\n",
      "                        ^^^^^^^^^^^^^^^^^\n",
      "  File \"/Users/finjordan/Desktop/Final Year Project/community-knapsack/community_knapsack/solvers/exact/memoize.py\", line 130, in explore\n",
      "    exclude: Tuple[List[int], int] = explore(i - 1, j)\n",
      "                                     ^^^^^^^^^^^^^^^^^\n",
      "  File \"/Users/finjordan/Desktop/Final Year Project/community-knapsack/community_knapsack/solvers/exact/memoize.py\", line 130, in explore\n",
      "    exclude: Tuple[List[int], int] = explore(i - 1, j)\n",
      "                                     ^^^^^^^^^^^^^^^^^\n",
      "  File \"/Users/finjordan/Desktop/Final Year Project/community-knapsack/community_knapsack/solvers/exact/memoize.py\", line 130, in explore\n",
      "    exclude: Tuple[List[int], int] = explore(i - 1, j)\n",
      "                                     ^^^^^^^^^^^^^^^^^\n",
      "  [Previous line repeated 1 more time]\n",
      "  File \"/Users/finjordan/Desktop/Final Year Project/community-knapsack/community_knapsack/solvers/exact/memoize.py\", line 122, in explore\n",
      "    memo[sub_problem] = explore(i - 1, j)\n",
      "                        ^^^^^^^^^^^^^^^^^\n",
      "  File \"/Users/finjordan/Desktop/Final Year Project/community-knapsack/community_knapsack/solvers/exact/memoize.py\", line 130, in explore\n",
      "    exclude: Tuple[List[int], int] = explore(i - 1, j)\n",
      "                                     ^^^^^^^^^^^^^^^^^\n",
      "  File \"/Users/finjordan/Desktop/Final Year Project/community-knapsack/community_knapsack/solvers/exact/memoize.py\", line 122, in explore\n",
      "    memo[sub_problem] = explore(i - 1, j)\n",
      "                        ^^^^^^^^^^^^^^^^^\n",
      "  File \"/Users/finjordan/Desktop/Final Year Project/community-knapsack/community_knapsack/solvers/exact/memoize.py\", line 122, in explore\n",
      "    memo[sub_problem] = explore(i - 1, j)\n",
      "                        ^^^^^^^^^^^^^^^^^\n",
      "  File \"/Users/finjordan/Desktop/Final Year Project/community-knapsack/community_knapsack/solvers/exact/memoize.py\", line 130, in explore\n",
      "    exclude: Tuple[List[int], int] = explore(i - 1, j)\n",
      "                                     ^^^^^^^^^^^^^^^^^\n",
      "  File \"/Users/finjordan/Desktop/Final Year Project/community-knapsack/community_knapsack/solvers/exact/memoize.py\", line 130, in explore\n",
      "    exclude: Tuple[List[int], int] = explore(i - 1, j)\n",
      "                                     ^^^^^^^^^^^^^^^^^\n",
      "  File \"/Users/finjordan/Desktop/Final Year Project/community-knapsack/community_knapsack/solvers/exact/memoize.py\", line 130, in explore\n",
      "    exclude: Tuple[List[int], int] = explore(i - 1, j)\n",
      "                                     ^^^^^^^^^^^^^^^^^\n",
      "  [Previous line repeated 5 more times]\n",
      "  File \"/Users/finjordan/Desktop/Final Year Project/community-knapsack/community_knapsack/solvers/exact/memoize.py\", line 122, in explore\n",
      "    memo[sub_problem] = explore(i - 1, j)\n",
      "                        ^^^^^^^^^^^^^^^^^\n",
      "  File \"/Users/finjordan/Desktop/Final Year Project/community-knapsack/community_knapsack/solvers/exact/memoize.py\", line 130, in explore\n",
      "    exclude: Tuple[List[int], int] = explore(i - 1, j)\n",
      "                                     ^^^^^^^^^^^^^^^^^\n",
      "  File \"/Users/finjordan/Desktop/Final Year Project/community-knapsack/community_knapsack/solvers/exact/memoize.py\", line 130, in explore\n",
      "    exclude: Tuple[List[int], int] = explore(i - 1, j)\n",
      "                                     ^^^^^^^^^^^^^^^^^\n",
      "  File \"/Users/finjordan/Desktop/Final Year Project/community-knapsack/community_knapsack/solvers/exact/memoize.py\", line 130, in explore\n",
      "    exclude: Tuple[List[int], int] = explore(i - 1, j)\n",
      "                                     ^^^^^^^^^^^^^^^^^\n",
      "  File \"/Users/finjordan/Desktop/Final Year Project/community-knapsack/community_knapsack/solvers/exact/memoize.py\", line 122, in explore\n",
      "    memo[sub_problem] = explore(i - 1, j)\n",
      "                        ^^^^^^^^^^^^^^^^^\n",
      "  File \"/Users/finjordan/Desktop/Final Year Project/community-knapsack/community_knapsack/solvers/exact/memoize.py\", line 130, in explore\n",
      "    exclude: Tuple[List[int], int] = explore(i - 1, j)\n",
      "                                     ^^^^^^^^^^^^^^^^^\n",
      "  File \"/Users/finjordan/Desktop/Final Year Project/community-knapsack/community_knapsack/solvers/exact/memoize.py\", line 130, in explore\n",
      "    exclude: Tuple[List[int], int] = explore(i - 1, j)\n",
      "                                     ^^^^^^^^^^^^^^^^^\n",
      "  File \"/Users/finjordan/Desktop/Final Year Project/community-knapsack/community_knapsack/solvers/exact/memoize.py\", line 107, in explore\n",
      "    def explore(i: int, j: List[int]):\n",
      "    \n",
      "KeyboardInterrupt\n"
     ]
    },
    {
     "ename": "KeyboardInterrupt",
     "evalue": "",
     "output_type": "error",
     "traceback": [
      "\u001B[0;31m---------------------------------------------------------------------------\u001B[0m",
      "\u001B[0;31mKeyboardInterrupt\u001B[0m                         Traceback (most recent call last)",
      "Cell \u001B[0;32mIn[16], line 2\u001B[0m\n\u001B[1;32m      1\u001B[0m \u001B[38;5;66;03m# Obtain the exact results for this evaluation:\u001B[39;00m\n\u001B[0;32m----> 2\u001B[0m exact_results \u001B[38;5;241m=\u001B[39m \u001B[43mevaluation\u001B[49m\u001B[38;5;241;43m.\u001B[39;49m\u001B[43msolve_problems\u001B[49m\u001B[43m(\u001B[49m\n\u001B[1;32m      3\u001B[0m \u001B[43m    \u001B[49m\u001B[43mproblem_list\u001B[49m\u001B[38;5;241;43m=\u001B[39;49m\u001B[43mproblems\u001B[49m\u001B[43m,\u001B[49m\n\u001B[1;32m      4\u001B[0m \u001B[43m    \u001B[49m\u001B[43malgorithms\u001B[49m\u001B[38;5;241;43m=\u001B[39;49m\u001B[43mexact_algorithms\u001B[49m\u001B[43m,\u001B[49m\n\u001B[1;32m      5\u001B[0m \u001B[43m    \u001B[49m\u001B[43mtimeout\u001B[49m\u001B[38;5;241;43m=\u001B[39;49m\u001B[38;5;241;43m120\u001B[39;49m\u001B[43m,\u001B[49m\n\u001B[1;32m      6\u001B[0m \u001B[43m    \u001B[49m\u001B[43mmax_fail\u001B[49m\u001B[38;5;241;43m=\u001B[39;49m\u001B[38;5;241;43m-\u001B[39;49m\u001B[38;5;241;43m1\u001B[39;49m\u001B[43m,\u001B[49m\n\u001B[1;32m      7\u001B[0m \u001B[43m    \u001B[49m\u001B[43mfile_name\u001B[49m\u001B[38;5;241;43m=\u001B[39;49m\u001B[38;5;124;43m'\u001B[39;49m\u001B[38;5;124;43mext-changing-projects.json\u001B[39;49m\u001B[38;5;124;43m'\u001B[39;49m\u001B[43m,\u001B[49m\n\u001B[1;32m      8\u001B[0m \u001B[43m    \u001B[49m\u001B[43moutput\u001B[49m\u001B[38;5;241;43m=\u001B[39;49m\u001B[38;5;28;43;01mTrue\u001B[39;49;00m\n\u001B[1;32m      9\u001B[0m \u001B[43m)\u001B[49m\n",
      "File \u001B[0;32m~/Desktop/Final Year Project/community-knapsack/evaluation/evaluation.py:155\u001B[0m, in \u001B[0;36msolve_problems\u001B[0;34m(problem_list, algorithms, timeout, max_fail, file_name, output)\u001B[0m\n\u001B[1;32m    151\u001B[0m                 \u001B[38;5;28;01mbreak\u001B[39;00m\n\u001B[1;32m    153\u001B[0m     \u001B[38;5;28;01mreturn\u001B[39;00m results\n\u001B[0;32m--> 155\u001B[0m \u001B[38;5;28;01mreturn\u001B[39;00m \u001B[43m_solve_problems\u001B[49m\u001B[43m(\u001B[49m\u001B[43msolve\u001B[49m\u001B[43m,\u001B[49m\u001B[43m \u001B[49m\u001B[43mfile_name\u001B[49m\u001B[43m)\u001B[49m\n",
      "File \u001B[0;32m~/Desktop/Final Year Project/community-knapsack/evaluation/evaluation.py:75\u001B[0m, in \u001B[0;36m_solve_problems\u001B[0;34m(solve_process, file_name)\u001B[0m\n\u001B[1;32m     72\u001B[0m     \u001B[38;5;28;01mwith\u001B[39;00m \u001B[38;5;28mopen\u001B[39m(file_name, \u001B[38;5;124m'\u001B[39m\u001B[38;5;124mr\u001B[39m\u001B[38;5;124m'\u001B[39m, encoding\u001B[38;5;241m=\u001B[39m\u001B[38;5;124m'\u001B[39m\u001B[38;5;124mutf-8\u001B[39m\u001B[38;5;124m'\u001B[39m) \u001B[38;5;28;01mas\u001B[39;00m file:\n\u001B[1;32m     73\u001B[0m         \u001B[38;5;28;01mreturn\u001B[39;00m json\u001B[38;5;241m.\u001B[39mload(file)\n\u001B[0;32m---> 75\u001B[0m results \u001B[38;5;241m=\u001B[39m \u001B[43msolve_process\u001B[49m\u001B[43m(\u001B[49m\u001B[43m)\u001B[49m\n\u001B[1;32m     77\u001B[0m \u001B[38;5;28;01mif\u001B[39;00m file_name:\n\u001B[1;32m     78\u001B[0m     json_object \u001B[38;5;241m=\u001B[39m json\u001B[38;5;241m.\u001B[39mdumps(results)\n",
      "File \u001B[0;32m~/Desktop/Final Year Project/community-knapsack/evaluation/evaluation.py:142\u001B[0m, in \u001B[0;36msolve_problems.<locals>.solve\u001B[0;34m()\u001B[0m\n\u001B[1;32m    139\u001B[0m \u001B[38;5;28;01mif\u001B[39;00m output:\n\u001B[1;32m    140\u001B[0m     \u001B[38;5;28mprint\u001B[39m(pid)\n\u001B[0;32m--> 142\u001B[0m result \u001B[38;5;241m=\u001B[39m \u001B[43mproblem\u001B[49m\u001B[38;5;241;43m.\u001B[39;49m\u001B[43msolve\u001B[49m\u001B[43m(\u001B[49m\u001B[43malgorithm\u001B[49m\u001B[43m,\u001B[49m\u001B[43m \u001B[49m\u001B[43mtimeout\u001B[49m\u001B[38;5;241;43m=\u001B[39;49m\u001B[43mtimeout\u001B[49m\u001B[43m)\u001B[49m\n\u001B[1;32m    143\u001B[0m \u001B[38;5;28;01mif\u001B[39;00m result\u001B[38;5;241m.\u001B[39mruntime \u001B[38;5;241m==\u001B[39m timeout:\n\u001B[1;32m    144\u001B[0m     fail_count \u001B[38;5;241m+\u001B[39m\u001B[38;5;241m=\u001B[39m \u001B[38;5;241m1\u001B[39m\n",
      "File \u001B[0;32m~/Desktop/Final Year Project/community-knapsack/community_knapsack/pbproblem.py:270\u001B[0m, in \u001B[0;36mPBMultiProblem.solve\u001B[0;34m(self, multi_algorithm, timeout)\u001B[0m\n\u001B[1;32m    260\u001B[0m \u001B[38;5;28;01mdef\u001B[39;00m \u001B[38;5;21msolve\u001B[39m(\u001B[38;5;28mself\u001B[39m, multi_algorithm: PBMultiAlgorithm, timeout: \u001B[38;5;28mfloat\u001B[39m \u001B[38;5;241m=\u001B[39m \u001B[38;5;241m-\u001B[39m\u001B[38;5;241m1\u001B[39m) \u001B[38;5;241m-\u001B[39m\u001B[38;5;241m>\u001B[39m PBResult:\n\u001B[1;32m    261\u001B[0m \u001B[38;5;250m    \u001B[39m\u001B[38;5;124;03m\"\"\"\u001B[39;00m\n\u001B[1;32m    262\u001B[0m \u001B[38;5;124;03m    Reduces a multidimensional (multiple budget) participatory budgeting problem to the\u001B[39;00m\n\u001B[1;32m    263\u001B[0m \u001B[38;5;124;03m    multidimensional binary knapsack problem and solves it using the specified algorithm,\u001B[39;00m\n\u001B[0;32m   (...)\u001B[0m\n\u001B[1;32m    268\u001B[0m \u001B[38;5;124;03m    :return: An allocation for the problem, its overall value and the run-time in milliseconds.\u001B[39;00m\n\u001B[1;32m    269\u001B[0m \u001B[38;5;124;03m    \"\"\"\u001B[39;00m\n\u001B[0;32m--> 270\u001B[0m     \u001B[38;5;28;01mreturn\u001B[39;00m \u001B[38;5;28;43msuper\u001B[39;49m\u001B[43m(\u001B[49m\u001B[43m)\u001B[49m\u001B[38;5;241;43m.\u001B[39;49m\u001B[43msolve\u001B[49m\u001B[43m(\u001B[49m\u001B[43mmulti_algorithm\u001B[49m\u001B[43m,\u001B[49m\u001B[43m \u001B[49m\u001B[43mtimeout\u001B[49m\u001B[43m)\u001B[49m\n",
      "File \u001B[0;32m~/Desktop/Final Year Project/community-knapsack/community_knapsack/pbproblem.py:109\u001B[0m, in \u001B[0;36m_PBProblem.solve\u001B[0;34m(self, algorithm, timeout)\u001B[0m\n\u001B[1;32m    107\u001B[0m process: mp\u001B[38;5;241m.\u001B[39mProcess \u001B[38;5;241m=\u001B[39m mp\u001B[38;5;241m.\u001B[39mProcess(target\u001B[38;5;241m=\u001B[39m\u001B[38;5;28mself\u001B[39m\u001B[38;5;241m.\u001B[39m_worker, args\u001B[38;5;241m=\u001B[39m(algorithm, \u001B[38;5;28mself\u001B[39m\u001B[38;5;241m.\u001B[39mvalues, result_queue))\n\u001B[1;32m    108\u001B[0m process\u001B[38;5;241m.\u001B[39mstart()\n\u001B[0;32m--> 109\u001B[0m \u001B[43mprocess\u001B[49m\u001B[38;5;241;43m.\u001B[39;49m\u001B[43mjoin\u001B[49m\u001B[43m(\u001B[49m\u001B[43mtimeout\u001B[49m\u001B[43m \u001B[49m\u001B[38;5;28;43;01mif\u001B[39;49;00m\u001B[43m \u001B[49m\u001B[43mtimeout\u001B[49m\u001B[43m \u001B[49m\u001B[38;5;241;43m>\u001B[39;49m\u001B[38;5;241;43m=\u001B[39;49m\u001B[43m \u001B[49m\u001B[38;5;241;43m0\u001B[39;49m\u001B[43m \u001B[49m\u001B[38;5;28;43;01melse\u001B[39;49;00m\u001B[43m \u001B[49m\u001B[38;5;28;43;01mNone\u001B[39;49;00m\u001B[43m)\u001B[49m\n\u001B[1;32m    111\u001B[0m \u001B[38;5;66;03m# Terminate the process if it is still running and return the empty allocation:\u001B[39;00m\n\u001B[1;32m    112\u001B[0m \u001B[38;5;28;01mif\u001B[39;00m process\u001B[38;5;241m.\u001B[39mis_alive():\n",
      "File \u001B[0;32m/usr/local/Cellar/python@3.11/3.11.2_1/Frameworks/Python.framework/Versions/3.11/lib/python3.11/multiprocessing/process.py:149\u001B[0m, in \u001B[0;36mBaseProcess.join\u001B[0;34m(self, timeout)\u001B[0m\n\u001B[1;32m    147\u001B[0m \u001B[38;5;28;01massert\u001B[39;00m \u001B[38;5;28mself\u001B[39m\u001B[38;5;241m.\u001B[39m_parent_pid \u001B[38;5;241m==\u001B[39m os\u001B[38;5;241m.\u001B[39mgetpid(), \u001B[38;5;124m'\u001B[39m\u001B[38;5;124mcan only join a child process\u001B[39m\u001B[38;5;124m'\u001B[39m\n\u001B[1;32m    148\u001B[0m \u001B[38;5;28;01massert\u001B[39;00m \u001B[38;5;28mself\u001B[39m\u001B[38;5;241m.\u001B[39m_popen \u001B[38;5;129;01mis\u001B[39;00m \u001B[38;5;129;01mnot\u001B[39;00m \u001B[38;5;28;01mNone\u001B[39;00m, \u001B[38;5;124m'\u001B[39m\u001B[38;5;124mcan only join a started process\u001B[39m\u001B[38;5;124m'\u001B[39m\n\u001B[0;32m--> 149\u001B[0m res \u001B[38;5;241m=\u001B[39m \u001B[38;5;28;43mself\u001B[39;49m\u001B[38;5;241;43m.\u001B[39;49m\u001B[43m_popen\u001B[49m\u001B[38;5;241;43m.\u001B[39;49m\u001B[43mwait\u001B[49m\u001B[43m(\u001B[49m\u001B[43mtimeout\u001B[49m\u001B[43m)\u001B[49m\n\u001B[1;32m    150\u001B[0m \u001B[38;5;28;01mif\u001B[39;00m res \u001B[38;5;129;01mis\u001B[39;00m \u001B[38;5;129;01mnot\u001B[39;00m \u001B[38;5;28;01mNone\u001B[39;00m:\n\u001B[1;32m    151\u001B[0m     _children\u001B[38;5;241m.\u001B[39mdiscard(\u001B[38;5;28mself\u001B[39m)\n",
      "File \u001B[0;32m/usr/local/Cellar/python@3.11/3.11.2_1/Frameworks/Python.framework/Versions/3.11/lib/python3.11/multiprocessing/popen_fork.py:40\u001B[0m, in \u001B[0;36mPopen.wait\u001B[0;34m(self, timeout)\u001B[0m\n\u001B[1;32m     38\u001B[0m \u001B[38;5;28;01mif\u001B[39;00m timeout \u001B[38;5;129;01mis\u001B[39;00m \u001B[38;5;129;01mnot\u001B[39;00m \u001B[38;5;28;01mNone\u001B[39;00m:\n\u001B[1;32m     39\u001B[0m     \u001B[38;5;28;01mfrom\u001B[39;00m \u001B[38;5;21;01mmultiprocessing\u001B[39;00m\u001B[38;5;21;01m.\u001B[39;00m\u001B[38;5;21;01mconnection\u001B[39;00m \u001B[38;5;28;01mimport\u001B[39;00m wait\n\u001B[0;32m---> 40\u001B[0m     \u001B[38;5;28;01mif\u001B[39;00m \u001B[38;5;129;01mnot\u001B[39;00m \u001B[43mwait\u001B[49m\u001B[43m(\u001B[49m\u001B[43m[\u001B[49m\u001B[38;5;28;43mself\u001B[39;49m\u001B[38;5;241;43m.\u001B[39;49m\u001B[43msentinel\u001B[49m\u001B[43m]\u001B[49m\u001B[43m,\u001B[49m\u001B[43m \u001B[49m\u001B[43mtimeout\u001B[49m\u001B[43m)\u001B[49m:\n\u001B[1;32m     41\u001B[0m         \u001B[38;5;28;01mreturn\u001B[39;00m \u001B[38;5;28;01mNone\u001B[39;00m\n\u001B[1;32m     42\u001B[0m \u001B[38;5;66;03m# This shouldn't block if wait() returned successfully.\u001B[39;00m\n",
      "File \u001B[0;32m/usr/local/Cellar/python@3.11/3.11.2_1/Frameworks/Python.framework/Versions/3.11/lib/python3.11/multiprocessing/connection.py:930\u001B[0m, in \u001B[0;36mwait\u001B[0;34m(object_list, timeout)\u001B[0m\n\u001B[1;32m    927\u001B[0m     deadline \u001B[38;5;241m=\u001B[39m time\u001B[38;5;241m.\u001B[39mmonotonic() \u001B[38;5;241m+\u001B[39m timeout\n\u001B[1;32m    929\u001B[0m \u001B[38;5;28;01mwhile\u001B[39;00m \u001B[38;5;28;01mTrue\u001B[39;00m:\n\u001B[0;32m--> 930\u001B[0m     ready \u001B[38;5;241m=\u001B[39m \u001B[43mselector\u001B[49m\u001B[38;5;241;43m.\u001B[39;49m\u001B[43mselect\u001B[49m\u001B[43m(\u001B[49m\u001B[43mtimeout\u001B[49m\u001B[43m)\u001B[49m\n\u001B[1;32m    931\u001B[0m     \u001B[38;5;28;01mif\u001B[39;00m ready:\n\u001B[1;32m    932\u001B[0m         \u001B[38;5;28;01mreturn\u001B[39;00m [key\u001B[38;5;241m.\u001B[39mfileobj \u001B[38;5;28;01mfor\u001B[39;00m (key, events) \u001B[38;5;129;01min\u001B[39;00m ready]\n",
      "File \u001B[0;32m/usr/local/Cellar/python@3.11/3.11.2_1/Frameworks/Python.framework/Versions/3.11/lib/python3.11/selectors.py:415\u001B[0m, in \u001B[0;36m_PollLikeSelector.select\u001B[0;34m(self, timeout)\u001B[0m\n\u001B[1;32m    413\u001B[0m ready \u001B[38;5;241m=\u001B[39m []\n\u001B[1;32m    414\u001B[0m \u001B[38;5;28;01mtry\u001B[39;00m:\n\u001B[0;32m--> 415\u001B[0m     fd_event_list \u001B[38;5;241m=\u001B[39m \u001B[38;5;28mself\u001B[39m\u001B[38;5;241m.\u001B[39m_selector\u001B[38;5;241m.\u001B[39mpoll(timeout)\n\u001B[1;32m    416\u001B[0m \u001B[38;5;28;01mexcept\u001B[39;00m \u001B[38;5;167;01mInterruptedError\u001B[39;00m:\n\u001B[1;32m    417\u001B[0m     \u001B[38;5;28;01mreturn\u001B[39;00m ready\n",
      "\u001B[0;31mKeyboardInterrupt\u001B[0m: "
     ]
    }
   ],
   "source": [
    "# Obtain the exact results for this evaluation:\n",
    "exact_results = evaluation.solve_problems(\n",
    "    problem_list=problems,\n",
    "    algorithms=exact_algorithms,\n",
    "    timeout=120,\n",
    "    max_fail=-1,\n",
    "    file_name='ext-changing-projects.json',\n",
    "    output=True\n",
    ")"
   ],
   "metadata": {
    "collapsed": false
   }
  },
  {
   "cell_type": "code",
   "execution_count": null,
   "outputs": [],
   "source": [],
   "metadata": {
    "collapsed": false
   }
  }
 ],
 "metadata": {
  "kernelspec": {
   "display_name": "Python 3",
   "language": "python",
   "name": "python3"
  },
  "language_info": {
   "codemirror_mode": {
    "name": "ipython",
    "version": 2
   },
   "file_extension": ".py",
   "mimetype": "text/x-python",
   "name": "python",
   "nbconvert_exporter": "python",
   "pygments_lexer": "ipython2",
   "version": "2.7.6"
  }
 },
 "nbformat": 4,
 "nbformat_minor": 0
}
