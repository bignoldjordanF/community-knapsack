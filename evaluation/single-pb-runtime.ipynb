{
 "cells": [
  {
   "cell_type": "code",
   "execution_count": 1,
   "metadata": {
    "collapsed": true
   },
   "outputs": [],
   "source": [
    "import community_knapsack as cks"
   ]
  },
  {
   "cell_type": "code",
   "execution_count": 10,
   "outputs": [],
   "source": [
    "file_path = '../resources/pabulib/'\n",
    "files = [\n",
    "    ('PW17', file_path + 'small/poland_warszawa_2017_aleksandrow.pb'),\n",
    "    ('PK18', file_path + 'small/poland_krakow_2018_swoszowice.pb'),\n",
    "    ('PC20', file_path + 'medium/poland_czestochowa_2020_srodmiescie.pb'),\n",
    "    ('PW18', file_path + 'medium/poland_warszawa_2018_obszar-2-sady-zoliborskie-zatrasie.pb'),\n",
    "    ('PW19', file_path + 'large/poland_warszawa_2019_ursynow-polnocny.pb'),\n",
    "    ('PW21', file_path + 'large/poland_warszawa_2021_zoliborz.pb'),\n",
    "    ('PW15', file_path + 'huge/poland_wroclaw_2015_from-500.pb'),\n",
    "    ('PW23', file_path + 'huge/poland_warszawa_2023_.pb')\n",
    "]"
   ],
   "metadata": {
    "collapsed": false
   }
  },
  {
   "cell_type": "markdown",
   "source": [],
   "metadata": {
    "collapsed": false
   }
  },
  {
   "cell_type": "code",
   "execution_count": 11,
   "outputs": [],
   "source": [
    "exact_algorithms = [\n",
    "    cks.PBSingleAlgorithm.BRUTE_FORCE,\n",
    "    cks.PBSingleAlgorithm.MEMOIZATION,\n",
    "    cks.PBSingleAlgorithm.DYNAMIC_PROGRAMMING,\n",
    "    cks.PBSingleAlgorithm.BRANCH_AND_BOUND,\n",
    "    cks.PBSingleAlgorithm.ILP_SOLVER\n",
    "]"
   ],
   "metadata": {
    "collapsed": false
   }
  },
  {
   "cell_type": "code",
   "execution_count": 12,
   "outputs": [],
   "source": [
    "approximation_algorithms = [\n",
    "    cks.PBSingleAlgorithm.GREEDY,\n",
    "    cks.PBSingleAlgorithm.RATIO_GREEDY,\n",
    "    cks.PBSingleAlgorithm.FPTAS,\n",
    "    cks.PBSingleAlgorithm.SIMULATED_ANNEALING,\n",
    "    cks.PBSingleAlgorithm.GENETIC_ALGORITHM\n",
    "]"
   ],
   "metadata": {
    "collapsed": false
   }
  },
  {
   "cell_type": "code",
   "execution_count": 18,
   "outputs": [
    {
     "name": "stderr",
     "output_type": "stream",
     "text": [
      "/Users/finjordan/Desktop/Final Year Project/community-knapsack/community_knapsack/pbproblem.py:106: UserWarning: The BRUTE_FORCE algorithm did not finish within the 120 second timeout limit. Try increasing the timeout or using a different algorithm (such as an approximation scheme).\n",
      "  warnings.warn(f'The {algorithm.name} algorithm did not finish within the {timeout} second timeout limit. '\n",
      "/Users/finjordan/Desktop/Final Year Project/community-knapsack/community_knapsack/pbproblem.py:106: UserWarning: The MEMOIZATION algorithm did not finish within the 120 second timeout limit. Try increasing the timeout or using a different algorithm (such as an approximation scheme).\n",
      "  warnings.warn(f'The {algorithm.name} algorithm did not finish within the {timeout} second timeout limit. '\n",
      "/Users/finjordan/Desktop/Final Year Project/community-knapsack/community_knapsack/pbproblem.py:106: UserWarning: The DYNAMIC_PROGRAMMING algorithm did not finish within the 120 second timeout limit. Try increasing the timeout or using a different algorithm (such as an approximation scheme).\n",
      "  warnings.warn(f'The {algorithm.name} algorithm did not finish within the {timeout} second timeout limit. '\n",
      "/Users/finjordan/Desktop/Final Year Project/community-knapsack/community_knapsack/pbproblem.py:106: UserWarning: The BRANCH_AND_BOUND algorithm did not finish within the 120 second timeout limit. Try increasing the timeout or using a different algorithm (such as an approximation scheme).\n",
      "  warnings.warn(f'The {algorithm.name} algorithm did not finish within the {timeout} second timeout limit. '\n"
     ]
    }
   ],
   "source": [
    "# Exact Algorithms\n",
    "exact_results = {file_id: [] for file_id, _ in files}\n",
    "for file_id, file_path in files:\n",
    "    parser = cks.PBParser(file_path)\n",
    "    problem = parser.single_problem()\n",
    "    for algorithm in exact_algorithms:\n",
    "        exact_results[file_id].append(problem.solve(algorithm=algorithm, timeout=120))"
   ],
   "metadata": {
    "collapsed": false
   }
  },
  {
   "cell_type": "code",
   "execution_count": 19,
   "outputs": [
    {
     "data": {
      "text/plain": "{'PW17': [PBResult(allocation=['720', '1206', '2592'], value=303, runtime=860.7943529932527, algorithm='BRUTE_FORCE', approximate=False),\n  PBResult(allocation=['720', '1206', '2592'], value=303, runtime=1113.365513010649, algorithm='MEMOIZATION', approximate=False),\n  PBResult(allocation=['720', '1206', '2592'], value=303, runtime=920.9067500050878, algorithm='DYNAMIC_PROGRAMMING', approximate=False),\n  PBResult(allocation=['1206', '720', '2592'], value=303, runtime=276.08068799600005, algorithm='BRANCH_AND_BOUND', approximate=False),\n  PBResult(allocation=['720', '1206', '2592'], value=303.0, runtime=315.4333580023376, algorithm='ILP_SOLVER', approximate=False)],\n 'PK18': [PBResult(allocation=['9', '1', '10', '6', '5', '4'], value=45908, runtime=222.2100819926709, algorithm='BRUTE_FORCE', approximate=False),\n  PBResult(allocation=['9', '1', '10', '6', '5', '4'], value=45908, runtime=2039.3994960031705, algorithm='MEMOIZATION', approximate=False),\n  PBResult(allocation=['9', '1', '10', '6', '5', '4'], value=45908, runtime=1885.793455003295, algorithm='DYNAMIC_PROGRAMMING', approximate=False),\n  PBResult(allocation=['6', '5', '4', '10', '9', '1'], value=45908, runtime=232.22227400401607, algorithm='BRANCH_AND_BOUND', approximate=False),\n  PBResult(allocation=['9', '1', '10', '6', '5', '4'], value=45908.0, runtime=238.5156829986954, algorithm='ILP_SOLVER', approximate=False)],\n 'PC20': [PBResult(allocation=[], value=0, runtime=0.0, algorithm='BRUTE_FORCE', approximate=False),\n  PBResult(allocation=['242', '125', '601', '412', '570', '526', '499', '523'], value=5586, runtime=11565.051031007897, algorithm='MEMOIZATION', approximate=False),\n  PBResult(allocation=['242', '125', '601', '412', '570', '526', '499', '523'], value=5586, runtime=10293.977362001897, algorithm='DYNAMIC_PROGRAMMING', approximate=False),\n  PBResult(allocation=['412', '499', '570', '242', '601', '125', '526', '523'], value=5586, runtime=199.98159100941848, algorithm='BRANCH_AND_BOUND', approximate=False),\n  PBResult(allocation=['242', '125', '601', '412', '570', '526', '499', '523'], value=5586.0, runtime=462.9240359936375, algorithm='ILP_SOLVER', approximate=False)],\n 'PW18': [PBResult(allocation=[], value=0, runtime=0.0, algorithm='BRUTE_FORCE', approximate=False),\n  PBResult(allocation=['1033', '106', '596', '564', '2323', '1306', '1898', '1123', '972', '44', '45', '1176', '1172', '1191', '2051', '602'], value=4526, runtime=17688.01463600539, algorithm='MEMOIZATION', approximate=False),\n  PBResult(allocation=['1033', '106', '596', '564', '2323', '1306', '1898', '1123', '972', '44', '45', '1176', '1172', '1191', '2051', '602'], value=4526, runtime=16390.523217996815, algorithm='DYNAMIC_PROGRAMMING', approximate=False),\n  PBResult(allocation=['1033', '106', '1176', '1898', '602', '564', '45', '1172', '2323', '1306', '1191', '972', '596', '2051', '44', '1123'], value=4526, runtime=669.9673020048067, algorithm='BRANCH_AND_BOUND', approximate=False),\n  PBResult(allocation=['1033', '106', '596', '564', '2323', '1306', '1898', '1123', '972', '44', '45', '1176', '1172', '1191', '2051', '602'], value=4526.0, runtime=454.43345299281646, algorithm='ILP_SOLVER', approximate=False)],\n 'PW19': [PBResult(allocation=[], value=0, runtime=0.0, algorithm='BRUTE_FORCE', approximate=False),\n  PBResult(allocation=[], value=0, runtime=0.0, algorithm='MEMOIZATION', approximate=False),\n  PBResult(allocation=[], value=0, runtime=0.0, algorithm='DYNAMIC_PROGRAMMING', approximate=False),\n  PBResult(allocation=[], value=0, runtime=0.0, algorithm='BRANCH_AND_BOUND', approximate=False),\n  PBResult(allocation=['1860', '1583', '2040', '444', '2224', '1845', '1478', '1538', '1239', '246', '1983', '1470', '456', '524', '1602', '1266', '1107', '1559', '2237', '1335', '1397', '1419', '1423', '1398', '1404', '1413', '1420', '1407', '1091', '1410', '1401', '1422', '1395', '1417'], value=19943.0, runtime=1284.701155993389, algorithm='ILP_SOLVER', approximate=False)],\n 'PW21': [PBResult(allocation=[], value=0, runtime=0.0, algorithm='BRUTE_FORCE', approximate=False),\n  PBResult(allocation=[], value=0, runtime=0.0, algorithm='MEMOIZATION', approximate=False),\n  PBResult(allocation=[], value=0, runtime=0.0, algorithm='DYNAMIC_PROGRAMMING', approximate=False),\n  PBResult(allocation=[], value=0, runtime=0.0, algorithm='BRANCH_AND_BOUND', approximate=False),\n  PBResult(allocation=['259', '358', '464', '532', '601', '703', '760', '770', '826', '990', '1129', '1131', '1133', '1219', '1226', '1248', '1257', '1259', '1358', '1361', '1426', '1431', '1432', '1474', '1482', '1634', '1645', '1711', '1753', '1809', '1828', '1986', '1987', '2053'], value=33334.0, runtime=859.9485119921155, algorithm='ILP_SOLVER', approximate=False)],\n 'PW15': [PBResult(allocation=[], value=0, runtime=0.0, algorithm='BRUTE_FORCE', approximate=False),\n  PBResult(allocation=[], value=0, runtime=0.0, algorithm='MEMOIZATION', approximate=False),\n  PBResult(allocation=[], value=0, runtime=0.0, algorithm='DYNAMIC_PROGRAMMING', approximate=False),\n  PBResult(allocation=['136', '478', '39', '487', '626', '1', '45', '788', '53', '354', '182', '816', '427'], value=72787, runtime=4594.758574996376, algorithm='BRANCH_AND_BOUND', approximate=False),\n  PBResult(allocation=['1', '39', '45', '53', '136', '182', '354', '427', '478', '487', '626', '788', '816'], value=72787.0, runtime=3348.8844509993214, algorithm='ILP_SOLVER', approximate=False)],\n 'PW23': [PBResult(allocation=[], value=0, runtime=0.0, algorithm='BRUTE_FORCE', approximate=False),\n  PBResult(allocation=[], value=0, runtime=0.0, algorithm='MEMOIZATION', approximate=False),\n  PBResult(allocation=[], value=0, runtime=0.0, algorithm='DYNAMIC_PROGRAMMING', approximate=False),\n  PBResult(allocation=[], value=0, runtime=0.0, algorithm='BRANCH_AND_BOUND', approximate=False),\n  PBResult(allocation=['5', '23', '44', '45', '215', '220', '256', '404', '446', '455', '460', '462', '468', '488', '508', '556', '558', '636', '762', '790', '798', '799', '825', '843', '882', '918', '919', '941', '993', '1007', '1016', '1024', '1067', '1082', '1112', '1115', '1131', '1142', '1157', '1169', '1178', '1190', '1225', '1270', '1273', '1275', '1276', '1279', '1283', '1302', '1342', '1349', '1433', '1443', '1450', '1457', '1482', '1492', '1549', '1562', '1565', '1571', '1588', '1592', '1611', '1651', '1673', '1675', '1714', '1719', '1731', '1764', '1781', '1790', '1796', '1802', '1804', '1809', '1812', '1815', '1820', '1829', '1854', '1868', '1915', '1925'], value=392518.0, runtime=2990.7682630000636, algorithm='ILP_SOLVER', approximate=False)]}"
     },
     "execution_count": 19,
     "metadata": {},
     "output_type": "execute_result"
    }
   ],
   "source": [
    "exact_results"
   ],
   "metadata": {
    "collapsed": false
   }
  },
  {
   "cell_type": "code",
   "execution_count": 20,
   "outputs": [],
   "source": [
    "# Approximation Algorithms\n",
    "approximation_results = {file_id: [] for file_id, _ in files}\n",
    "for file_id, file_path in files:\n",
    "    parser = cks.PBParser(file_path)\n",
    "    problem = parser.single_problem()\n",
    "    for algorithm in approximation_algorithms:\n",
    "        approximation_results[file_id].append(problem.solve(algorithm=algorithm, timeout=120))"
   ],
   "metadata": {
    "collapsed": false
   }
  },
  {
   "cell_type": "code",
   "execution_count": 21,
   "outputs": [
    {
     "data": {
      "text/plain": "{'PW17': [PBResult(allocation=['261', '720'], value=290, runtime=198.0819090094883, algorithm='GREEDY', approximate=True),\n  PBResult(allocation=['1206', '720', '2592'], value=303, runtime=198.73708099476062, algorithm='RATIO_GREEDY', approximate=True),\n  PBResult(allocation=['720', '1206', '2592'], value=275, runtime=196.34242200118024, algorithm='FPTAS', approximate=True),\n  PBResult(allocation=['720', '1206', '2592'], value=303, runtime=792.1772980043897, algorithm='SIMULATED_ANNEALING', approximate=True),\n  PBResult(allocation=['720', '1206', '2592'], value=303, runtime=302.4520589970052, algorithm='GENETIC_ALGORITHM', approximate=True)],\n 'PK18': [PBResult(allocation=['9', '1', '6', '10', '5', '4'], value=45908, runtime=206.11969799210783, algorithm='GREEDY', approximate=True),\n  PBResult(allocation=['6', '5', '4', '10', '8', '9'], value=44521, runtime=195.5909550015349, algorithm='RATIO_GREEDY', approximate=True),\n  PBResult(allocation=['9', '1', '10', '6', '5', '4'], value=44693, runtime=198.85249399521854, algorithm='FPTAS', approximate=True),\n  PBResult(allocation=['9', '1', '10', '6', '5', '4'], value=45908, runtime=845.0693830091041, algorithm='SIMULATED_ANNEALING', approximate=True),\n  PBResult(allocation=['9', '1', '10', '6', '5', '4'], value=45908, runtime=320.4382109979633, algorithm='GENETIC_ALGORITHM', approximate=True)],\n 'PC20': [PBResult(allocation=['242', '125', '601', '94', '570', '499', '412'], value=5412, runtime=202.54229099373333, algorithm='GREEDY', approximate=True),\n  PBResult(allocation=['412', '499', '570', '242', '601', '125', '526', '524'], value=5512, runtime=206.31871400109958, algorithm='RATIO_GREEDY', approximate=True),\n  PBResult(allocation=['242', '125', '601', '412', '570', '526', '499', '523'], value=5434, runtime=199.88526099768933, algorithm='FPTAS', approximate=True),\n  PBResult(allocation=['242', '125', '601', '412', '570', '526', '499', '523'], value=5586, runtime=749.6699839975918, algorithm='SIMULATED_ANNEALING', approximate=True),\n  PBResult(allocation=['242', '601', '412', '570', '526', '499', '523', '524', '522'], value=5125, runtime=369.6092759928433, algorithm='GENETIC_ALGORITHM', approximate=True)],\n 'PW18': [PBResult(allocation=['1033', '106', '1847', '596', '564', '979', '1898', '45'], value=3172, runtime=207.87973298865836, algorithm='GREEDY', approximate=True),\n  PBResult(allocation=['1033', '106', '1176', '1898', '602', '564', '45', '1172', '2323', '1306', '1191', '972', '596', '1807', '2051', '104'], value=4474, runtime=202.4755749880569, algorithm='RATIO_GREEDY', approximate=True),\n  PBResult(allocation=['1033', '106', '596', '564', '2323', '1306', '1898', '1123', '972', '44', '45', '1176', '1172', '1191', '2051', '602'], value=4450, runtime=209.92323799873702, algorithm='FPTAS', approximate=True),\n  PBResult(allocation=['1033', '106', '596', '564', '2323', '1306', '1898', '972', '44', '45', '104', '1176', '1172', '1191', '1766', '602'], value=4396, runtime=820.2909170067869, algorithm='SIMULATED_ANNEALING', approximate=True),\n  PBResult(allocation=['1033', '106', '596', '564', '1807', '2323', '1306', '1898', '972', '44', '45', '1176', '1172', '1191', '2051'], value=4455, runtime=407.2312710050028, algorithm='GENETIC_ALGORITHM', approximate=True)],\n 'PW19': [PBResult(allocation=['23', '1860', '1583', '2040', '986', '444', '2224', '1845', '1478', '1538', '1239', '1470'], value=12082, runtime=266.79703799891286, algorithm='GREEDY', approximate=True),\n  PBResult(allocation=['1860', '2040', '1239', '1538', '524', '1266', '1335', '1107', '1845', '1397', '1559', '1470', '1407', '1419', '1983', '456', '1423', '1398', '1404', '1420', '1413', '1091', '444', '2224', '1410', '1401', '1422', '1395', '1602', '1583', '2237', '1417', '1478', '1566'], value=19535, runtime=247.10329300432932, algorithm='RATIO_GREEDY', approximate=True),\n  PBResult(allocation=['1860', '1583', '2040', '444', '2224', '1845', '1478', '1538', '1239', '246', '1983', '1470', '456', '524', '1602', '1266', '1107', '1559', '2237', '1335', '1397', '1419', '1423', '1398', '1404', '1413', '1420', '1407', '1091', '1410', '1401', '1422', '1395', '1417'], value=19741, runtime=595.1400280027883, algorithm='FPTAS', approximate=True),\n  PBResult(allocation=['1860', '1583', '2040', '444', '2224', '1845', '1604', '1538', '1239', '1983', '1470', '456', '1475', '524', '1602', '1266', '1107', '1559', '2237', '1566', '1335', '1397', '1419', '1398', '1404', '1413', '1420', '1410', '1422'], value=18785, runtime=1205.065251007909, algorithm='SIMULATED_ANNEALING', approximate=True),\n  PBResult(allocation=['1860', '1583', '2040', '444', '2224', '1845', '1478', '1538', '1239', '1983', '1470', '456', '524', '1602', '1266', '1107', '1151', '1559', '2237', '1566', '1335', '1397', '1419', '1423', '1398', '1404', '1413', '1420', '1407', '1091', '1410', '1401', '1422', '1395'], value=19817, runtime=941.4890530024422, algorithm='GENETIC_ALGORITHM', approximate=True)],\n 'PW21': [PBResult(allocation=['1809', '760', '1361', '1248', '1129', '770', '486', '1889', '1431', '1432', '1986', '1219', '532', '1257', '1426', '2053', '358', '1259', '1828', '1482', '1711'], value=28932, runtime=289.5270629960578, algorithm='GREEDY', approximate=True),\n  PBResult(allocation=['770', '1431', '1248', '1482', '1426', '1361', '1257', '1828', '1259', '1986', '464', '760', '1634', '1711', '1432', '1645', '1219', '1753', '1131', '1129', '826', '1226', '259', '2053', '1474', '1987', '1133', '601', '703', '532', '1139', '358', '1358', '990', '1313', '1575', '1282', '1200', '1215'], value=33238, runtime=241.38825699628796, algorithm='RATIO_GREEDY', approximate=True),\n  PBResult(allocation=['259', '358', '464', '532', '601', '703', '760', '770', '826', '990', '1129', '1131', '1133', '1219', '1226', '1248', '1257', '1259', '1358', '1361', '1426', '1431', '1432', '1474', '1482', '1634', '1645', '1711', '1753', '1809', '1828', '1986', '1987', '2053'], value=33057, runtime=404.89656200225, algorithm='FPTAS', approximate=True),\n  PBResult(allocation=['464', '530', '670', '703', '760', '770', '983', '990', '1129', '1133', '1215', '1219', '1226', '1248', '1257', '1259', '1268', '1278', '1313', '1358', '1361', '1426', '1430', '1432', '1474', '1482', '1634', '1645', '1709', '1711', '1753', '1828', '1986', '1987', '2053'], value=29145, runtime=1093.9620370045304, algorithm='SIMULATED_ANNEALING', approximate=True),\n  PBResult(allocation=['259', '464', '529', '601', '703', '760', '770', '826', '990', '1129', '1131', '1139', '1200', '1219', '1226', '1248', '1257', '1259', '1268', '1282', '1313', '1358', '1361', '1426', '1431', '1432', '1474', '1482', '1634', '1645', '1711', '1753', '1828', '1889', '1986', '1987', '2053'], value=32841, runtime=639.3198890000349, algorithm='GENETIC_ALGORITHM', approximate=True)],\n 'PW15': [PBResult(allocation=['487', '136', '478', '626', '1', '788', '39', '53', '45', '182', '427', '566'], value=72122, runtime=2910.8872649958357, algorithm='GREEDY', approximate=True),\n  PBResult(allocation=['136', '478', '39', '487', '626', '1', '45', '788', '53', '354', '182', '816', '427'], value=72787, runtime=2942.47672399797, algorithm='RATIO_GREEDY', approximate=True),\n  PBResult(allocation=['1', '39', '45', '53', '136', '182', '354', '427', '478', '487', '626', '788', '816'], value=72509, runtime=6046.756600990193, algorithm='FPTAS', approximate=True),\n  PBResult(allocation=['1', '6', '39', '96', '156', '200', '257', '412', '418', '478', '487', '556', '610', '615', '625', '628', '685', '702', '816'], value=38756, runtime=3585.206576011842, algorithm='SIMULATED_ANNEALING', approximate=True),\n  PBResult(allocation=['55', '93', '103', '130', '143', '205', '314', '356', '468', '545', '575', '591', '604', '652', '691', '774', '801'], value=0, runtime=3595.5299229972297, algorithm='GENETIC_ALGORITHM', approximate=True)],\n 'PW23': [PBResult(allocation=['51', '953', '825', '1443', '314', '1592', '1482', '1571', '1082', '1802', '1781', '44', '1868', '941', '1225', '1651', '1829', '1673', '455', '799', '460', '1562'], value=290845, runtime=1740.9952779999003, algorithm='GREEDY', approximate=True),\n  PBResult(allocation=['1082', '455', '5', '1764', '1868', '1562', '1457', '556', '460', '1275', '1804', '1588', '941', '799', '468', '558', '462', '1673', '1492', '1565', '44', '1178', '1157', '1279', '508', '843', '1829', '1443', '1820', '1115', '1349', '1225', '1482', '1651', '488', '1675', '1302', '1007', '790', '1270', '1571', '1611', '762', '918', '23', '919', '220', '1802', '636', '215', '993', '1781', '1276', '446', '1719', '1714', '1854', '1809', '256', '1549', '1796', '1450', '1342', '404', '1925', '1731', '1283', '1812', '45', '1016', '1790', '1273', '1112', '1190', '1024', '825', '1592', '1815', '1131', '1915', '1169', '1433', '882', '1067', '1142', '798'], value=392518, runtime=1712.2082260029856, algorithm='RATIO_GREEDY', approximate=True),\n  PBResult(allocation=['5', '23', '44', '45', '215', '220', '256', '404', '446', '455', '460', '462', '468', '488', '508', '556', '558', '636', '762', '790', '799', '825', '843', '882', '918', '919', '941', '993', '1007', '1016', '1024', '1067', '1082', '1112', '1115', '1131', '1157', '1169', '1178', '1190', '1225', '1270', '1273', '1275', '1276', '1279', '1283', '1302', '1342', '1349', '1433', '1443', '1450', '1457', '1482', '1492', '1549', '1562', '1565', '1571', '1588', '1592', '1611', '1651', '1673', '1675', '1714', '1719', '1731', '1764', '1781', '1790', '1796', '1802', '1804', '1806', '1809', '1812', '1815', '1820', '1829', '1854', '1868', '1925'], value=388363, runtime=3254.9181649956154, algorithm='FPTAS', approximate=True),\n  PBResult(allocation=['20', '42', '43', '44', '45', '220', '256', '287', '404', '462', '468', '508', '556', '636', '640', '643', '799', '825', '882', '918', '941', '1024', '1082', '1115', '1131', '1178', '1208', '1209', '1225', '1273', '1275', '1279', '1283', '1342', '1349', '1363', '1433', '1443', '1446', '1450', '1482', '1492', '1549', '1562', '1571', '1611', '1651', '1673', '1714', '1781', '1795', '1796', '1802', '1804', '1806', '1812', '1815', '1820', '1829', '1854', '1925'], value=302204, runtime=2547.2411929949885, algorithm='SIMULATED_ANNEALING', approximate=True),\n  PBResult(allocation=['5', '23', '44', '74', '134', '192', '215', '220', '256', '404', '446', '455', '460', '462', '468', '488', '508', '544', '556', '558', '636', '762', '790', '799', '843', '918', '919', '941', '993', '1007', '1016', '1024', '1067', '1082', '1112', '1115', '1142', '1157', '1169', '1178', '1190', '1209', '1225', '1270', '1273', '1275', '1276', '1279', '1283', '1302', '1342', '1349', '1433', '1443', '1450', '1457', '1482', '1492', '1549', '1562', '1565', '1571', '1588', '1611', '1651', '1673', '1675', '1714', '1719', '1731', '1764', '1781', '1790', '1795', '1796', '1802', '1804', '1806', '1809', '1812', '1820', '1829', '1854', '1868', '1915', '1925'], value=361211, runtime=2374.8960660013836, algorithm='GENETIC_ALGORITHM', approximate=True)]}"
     },
     "execution_count": 21,
     "metadata": {},
     "output_type": "execute_result"
    }
   ],
   "source": [
    "approximation_results"
   ],
   "metadata": {
    "collapsed": false
   }
  },
  {
   "cell_type": "code",
   "execution_count": null,
   "outputs": [],
   "source": [],
   "metadata": {
    "collapsed": false
   }
  }
 ],
 "metadata": {
  "kernelspec": {
   "display_name": "Python 3",
   "language": "python",
   "name": "python3"
  },
  "language_info": {
   "codemirror_mode": {
    "name": "ipython",
    "version": 2
   },
   "file_extension": ".py",
   "mimetype": "text/x-python",
   "name": "python",
   "nbconvert_exporter": "python",
   "pygments_lexer": "ipython2",
   "version": "2.7.6"
  }
 },
 "nbformat": 4,
 "nbformat_minor": 0
}
